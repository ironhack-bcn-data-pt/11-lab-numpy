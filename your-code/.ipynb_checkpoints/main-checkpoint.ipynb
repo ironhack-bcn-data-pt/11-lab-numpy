{
 "cells": [
  {
   "cell_type": "markdown",
   "metadata": {},
   "source": [
    "# Intrduction to NumPy\n",
    "\n",
    "\n",
    "#### 1. Import NumPy under the name np."
   ]
  },
  {
   "cell_type": "code",
   "execution_count": 1,
   "metadata": {},
   "outputs": [],
   "source": [
    "# your code here\n",
    "\n",
    "import numpy as np"
   ]
  },
  {
   "cell_type": "markdown",
   "metadata": {},
   "source": [
    "#### 2. Print your NumPy version."
   ]
  },
  {
   "cell_type": "code",
   "execution_count": 2,
   "metadata": {},
   "outputs": [
    {
     "data": {
      "text/plain": [
       "'1.20.1'"
      ]
     },
     "execution_count": 2,
     "metadata": {},
     "output_type": "execute_result"
    }
   ],
   "source": [
    "# your code here\n",
    "np.__version__"
   ]
  },
  {
   "cell_type": "markdown",
   "metadata": {},
   "source": [
    "#### 3. Generate a 2x3x5 3-dimensional array with random values. Assign the array to variable *a*.\n",
    "**Challenge**: there are at least three easy ways that use numpy to generate random arrays. How many ways can you find?"
   ]
  },
  {
   "cell_type": "code",
   "execution_count": 3,
   "metadata": {},
   "outputs": [
    {
     "name": "stdout",
     "output_type": "stream",
     "text": [
      "[[[49 29 17  3 30]\n",
      "  [14 29 27 26 47]\n",
      "  [ 5 12  9 21 29]]\n",
      "\n",
      " [[21 36 10 44 38]\n",
      "  [ 5 39 10 13 12]\n",
      "  [ 8 31 16 31  8]]]\n"
     ]
    }
   ],
   "source": [
    "# Method 1\n",
    "a = np.random.randint (0,50,(2,3,5))\n",
    "print(a)"
   ]
  },
  {
   "cell_type": "code",
   "execution_count": 6,
   "metadata": {},
   "outputs": [
    {
     "data": {
      "text/plain": [
       "array([[[0.8894408 , 0.06715585, 0.77622343, 0.72477776, 0.34200072],\n",
       "        [0.5505145 , 0.06146153, 0.95949456, 0.1705424 , 0.03024954],\n",
       "        [0.86451175, 0.75586971, 0.91728872, 0.39236806, 0.1735799 ]],\n",
       "\n",
       "       [[0.1122448 , 0.1371674 , 0.20828464, 0.50749397, 0.46566207],\n",
       "        [0.81619548, 0.43602866, 0.72003236, 0.92097124, 0.38216449],\n",
       "        [0.3831936 , 0.93150584, 0.37897822, 0.70587861, 0.67974063]]])"
      ]
     },
     "execution_count": 6,
     "metadata": {},
     "output_type": "execute_result"
    }
   ],
   "source": [
    "# Method 2\n",
    "a = np.random.random((2,3,5))\n",
    "a"
   ]
  },
  {
   "cell_type": "code",
   "execution_count": 7,
   "metadata": {},
   "outputs": [
    {
     "data": {
      "text/plain": [
       "array([[[4.36399175e-01, 9.69835058e-02, 8.78809438e-01, 9.70007813e-01,\n",
       "         7.89923629e-01],\n",
       "        [1.57954562e-02, 2.09431208e-01, 8.20058131e-01, 4.94073265e-01,\n",
       "         6.66870945e-04],\n",
       "        [1.27023999e-01, 4.26028512e-01, 9.27382456e-01, 6.22580127e-01,\n",
       "         7.14417915e-01]],\n",
       "\n",
       "       [[1.99900195e-01, 1.75909753e-01, 1.58194481e-01, 4.96004372e-01,\n",
       "         8.86175520e-01],\n",
       "        [7.50897290e-01, 9.69106954e-01, 6.50900811e-01, 2.54672520e-01,\n",
       "         5.38578502e-01],\n",
       "        [1.30795692e-01, 1.42127722e-01, 3.24322306e-01, 5.91772880e-01,\n",
       "         9.11650531e-01]]])"
      ]
     },
     "execution_count": 7,
     "metadata": {},
     "output_type": "execute_result"
    }
   ],
   "source": [
    "# Method 3\n",
    "a = np.random.rand(2, 3, 5)\n",
    "a"
   ]
  },
  {
   "cell_type": "markdown",
   "metadata": {},
   "source": [
    "#### 4. Print *a*.\n"
   ]
  },
  {
   "cell_type": "code",
   "execution_count": 8,
   "metadata": {},
   "outputs": [
    {
     "name": "stdout",
     "output_type": "stream",
     "text": [
      "[[[4.36399175e-01 9.69835058e-02 8.78809438e-01 9.70007813e-01\n",
      "   7.89923629e-01]\n",
      "  [1.57954562e-02 2.09431208e-01 8.20058131e-01 4.94073265e-01\n",
      "   6.66870945e-04]\n",
      "  [1.27023999e-01 4.26028512e-01 9.27382456e-01 6.22580127e-01\n",
      "   7.14417915e-01]]\n",
      "\n",
      " [[1.99900195e-01 1.75909753e-01 1.58194481e-01 4.96004372e-01\n",
      "   8.86175520e-01]\n",
      "  [7.50897290e-01 9.69106954e-01 6.50900811e-01 2.54672520e-01\n",
      "   5.38578502e-01]\n",
      "  [1.30795692e-01 1.42127722e-01 3.24322306e-01 5.91772880e-01\n",
      "   9.11650531e-01]]]\n"
     ]
    }
   ],
   "source": [
    "# your code here\n",
    "print (a)"
   ]
  },
  {
   "cell_type": "markdown",
   "metadata": {},
   "source": [
    "#### 5. Create a 5x2x3 3-dimensional array with all values equaling 1. Assign the array to variable *b*."
   ]
  },
  {
   "cell_type": "code",
   "execution_count": 9,
   "metadata": {},
   "outputs": [],
   "source": [
    "# your code here\n",
    "b = np.ones((5,2,3))"
   ]
  },
  {
   "cell_type": "markdown",
   "metadata": {},
   "source": [
    "#### 6. Print *b*.\n"
   ]
  },
  {
   "cell_type": "code",
   "execution_count": 10,
   "metadata": {},
   "outputs": [
    {
     "data": {
      "text/plain": [
       "array([[[1., 1., 1.],\n",
       "        [1., 1., 1.]],\n",
       "\n",
       "       [[1., 1., 1.],\n",
       "        [1., 1., 1.]],\n",
       "\n",
       "       [[1., 1., 1.],\n",
       "        [1., 1., 1.]],\n",
       "\n",
       "       [[1., 1., 1.],\n",
       "        [1., 1., 1.]],\n",
       "\n",
       "       [[1., 1., 1.],\n",
       "        [1., 1., 1.]]])"
      ]
     },
     "execution_count": 10,
     "metadata": {},
     "output_type": "execute_result"
    }
   ],
   "source": [
    "# your code here\n",
    "b"
   ]
  },
  {
   "cell_type": "markdown",
   "metadata": {},
   "source": [
    "#### 7. Do *a* and *b* have the same size? How do you prove that in Python code?"
   ]
  },
  {
   "cell_type": "code",
   "execution_count": 11,
   "metadata": {},
   "outputs": [
    {
     "name": "stdout",
     "output_type": "stream",
     "text": [
      "a and b have the same size.\n"
     ]
    }
   ],
   "source": [
    "# your code here\n",
    "if a.size == b.size:\n",
    "    print (\"a and b have the same size.\")\n",
    "else:\n",
    "    print (\"a and b don't have the same size.\")"
   ]
  },
  {
   "cell_type": "markdown",
   "metadata": {},
   "source": [
    "#### 8. Are you able to add *a* and *b*? Why or why not?\n"
   ]
  },
  {
   "cell_type": "code",
   "execution_count": 12,
   "metadata": {},
   "outputs": [
    {
     "ename": "ValueError",
     "evalue": "operands could not be broadcast together with shapes (2,3,5) (5,2,3) ",
     "output_type": "error",
     "traceback": [
      "\u001b[1;31m---------------------------------------------------------------------------\u001b[0m",
      "\u001b[1;31mValueError\u001b[0m                                Traceback (most recent call last)",
      "\u001b[1;32m<ipython-input-12-bff5ea5be8a7>\u001b[0m in \u001b[0;36m<module>\u001b[1;34m\u001b[0m\n\u001b[0;32m      1\u001b[0m \u001b[1;31m# your answer here\u001b[0m\u001b[1;33m\u001b[0m\u001b[1;33m\u001b[0m\u001b[1;33m\u001b[0m\u001b[0m\n\u001b[1;32m----> 2\u001b[1;33m \u001b[0mnp\u001b[0m\u001b[1;33m.\u001b[0m\u001b[0madd\u001b[0m \u001b[1;33m(\u001b[0m\u001b[0ma\u001b[0m\u001b[1;33m,\u001b[0m \u001b[0mb\u001b[0m\u001b[1;33m)\u001b[0m\u001b[1;33m\u001b[0m\u001b[1;33m\u001b[0m\u001b[0m\n\u001b[0m",
      "\u001b[1;31mValueError\u001b[0m: operands could not be broadcast together with shapes (2,3,5) (5,2,3) "
     ]
    }
   ],
   "source": [
    "# your answer here\n",
    "np.add (a, b)\n",
    "\n",
    "# Not possible, bc they have different shapes"
   ]
  },
  {
   "cell_type": "markdown",
   "metadata": {},
   "source": [
    "#### 9. Transpose *b* so that it has the same structure of *a* (i.e. become a 2x3x5 array). Assign the transposed array to variable *c*."
   ]
  },
  {
   "cell_type": "code",
   "execution_count": 14,
   "metadata": {},
   "outputs": [
    {
     "data": {
      "text/plain": [
       "array([[[1., 1., 1., 1., 1.],\n",
       "        [1., 1., 1., 1., 1.],\n",
       "        [1., 1., 1., 1., 1.]],\n",
       "\n",
       "       [[1., 1., 1., 1., 1.],\n",
       "        [1., 1., 1., 1., 1.],\n",
       "        [1., 1., 1., 1., 1.]]])"
      ]
     },
     "execution_count": 14,
     "metadata": {},
     "output_type": "execute_result"
    }
   ],
   "source": [
    "# your code here\n",
    "c = b.reshape((2, 3, 5))\n",
    "c"
   ]
  },
  {
   "cell_type": "markdown",
   "metadata": {},
   "source": [
    "#### 10. Try to add *a* and *c*. Now it should work. Assign the sum to variable *d*. But why does it work now?"
   ]
  },
  {
   "cell_type": "code",
   "execution_count": 16,
   "metadata": {},
   "outputs": [
    {
     "data": {
      "text/plain": [
       "array([[[1.43639917, 1.09698351, 1.87880944, 1.97000781, 1.78992363],\n",
       "        [1.01579546, 1.20943121, 1.82005813, 1.49407327, 1.00066687],\n",
       "        [1.127024  , 1.42602851, 1.92738246, 1.62258013, 1.71441792]],\n",
       "\n",
       "       [[1.1999002 , 1.17590975, 1.15819448, 1.49600437, 1.88617552],\n",
       "        [1.75089729, 1.96910695, 1.65090081, 1.25467252, 1.5385785 ],\n",
       "        [1.13079569, 1.14212772, 1.32432231, 1.59177288, 1.91165053]]])"
      ]
     },
     "execution_count": 16,
     "metadata": {},
     "output_type": "execute_result"
    }
   ],
   "source": [
    "# your code/answer here\n",
    "d = np.add (a, c)\n",
    "d\n",
    "# Because they have the same shape now"
   ]
  },
  {
   "cell_type": "markdown",
   "metadata": {},
   "source": [
    "#### 11. Print *a* and *d*. Notice the difference and relation of the two array in terms of the values? Explain."
   ]
  },
  {
   "cell_type": "code",
   "execution_count": 23,
   "metadata": {},
   "outputs": [
    {
     "name": "stdout",
     "output_type": "stream",
     "text": [
      "[[[4.36399175e-01 9.69835058e-02 8.78809438e-01 9.70007813e-01\n",
      "   7.89923629e-01]\n",
      "  [1.57954562e-02 2.09431208e-01 8.20058131e-01 4.94073265e-01\n",
      "   6.66870945e-04]\n",
      "  [1.27023999e-01 4.26028512e-01 9.27382456e-01 6.22580127e-01\n",
      "   7.14417915e-01]]\n",
      "\n",
      " [[1.99900195e-01 1.75909753e-01 1.58194481e-01 4.96004372e-01\n",
      "   8.86175520e-01]\n",
      "  [7.50897290e-01 9.69106954e-01 6.50900811e-01 2.54672520e-01\n",
      "   5.38578502e-01]\n",
      "  [1.30795692e-01 1.42127722e-01 3.24322306e-01 5.91772880e-01\n",
      "   9.11650531e-01]]]\n",
      "[[[1.43639917 1.09698351 1.87880944 1.97000781 1.78992363]\n",
      "  [1.01579546 1.20943121 1.82005813 1.49407327 1.00066687]\n",
      "  [1.127024   1.42602851 1.92738246 1.62258013 1.71441792]]\n",
      "\n",
      " [[1.1999002  1.17590975 1.15819448 1.49600437 1.88617552]\n",
      "  [1.75089729 1.96910695 1.65090081 1.25467252 1.5385785 ]\n",
      "  [1.13079569 1.14212772 1.32432231 1.59177288 1.91165053]]]\n"
     ]
    }
   ],
   "source": [
    "# your code/answer here\n",
    "print(a)\n",
    "print(d)\n",
    "# Difference: values in d are lower than in a\n",
    "# Relation: All values are floats"
   ]
  },
  {
   "cell_type": "markdown",
   "metadata": {},
   "source": [
    "#### 12. Multiply *a* and *c*. Assign the result to *e*."
   ]
  },
  {
   "cell_type": "code",
   "execution_count": 24,
   "metadata": {},
   "outputs": [
    {
     "data": {
      "text/plain": [
       "array([[[4.36399175e-01, 9.69835058e-02, 8.78809438e-01, 9.70007813e-01,\n",
       "         7.89923629e-01],\n",
       "        [1.57954562e-02, 2.09431208e-01, 8.20058131e-01, 4.94073265e-01,\n",
       "         6.66870945e-04],\n",
       "        [1.27023999e-01, 4.26028512e-01, 9.27382456e-01, 6.22580127e-01,\n",
       "         7.14417915e-01]],\n",
       "\n",
       "       [[1.99900195e-01, 1.75909753e-01, 1.58194481e-01, 4.96004372e-01,\n",
       "         8.86175520e-01],\n",
       "        [7.50897290e-01, 9.69106954e-01, 6.50900811e-01, 2.54672520e-01,\n",
       "         5.38578502e-01],\n",
       "        [1.30795692e-01, 1.42127722e-01, 3.24322306e-01, 5.91772880e-01,\n",
       "         9.11650531e-01]]])"
      ]
     },
     "execution_count": 24,
     "metadata": {},
     "output_type": "execute_result"
    }
   ],
   "source": [
    "# your code here\n",
    "e = np.multiply (a, c)\n",
    "e"
   ]
  },
  {
   "cell_type": "markdown",
   "metadata": {},
   "source": [
    "#### 13. Does *e* equal to *a*? Why or why not?\n"
   ]
  },
  {
   "cell_type": "code",
   "execution_count": 26,
   "metadata": {},
   "outputs": [
    {
     "data": {
      "text/plain": [
       "array([[[ True,  True,  True,  True,  True],\n",
       "        [ True,  True,  True,  True,  True],\n",
       "        [ True,  True,  True,  True,  True]],\n",
       "\n",
       "       [[ True,  True,  True,  True,  True],\n",
       "        [ True,  True,  True,  True,  True],\n",
       "        [ True,  True,  True,  True,  True]]])"
      ]
     },
     "execution_count": 26,
     "metadata": {},
     "output_type": "execute_result"
    }
   ],
   "source": [
    "# your code/answer here\n",
    "e == a\n",
    "# Yes, because c is composed by 1's"
   ]
  },
  {
   "cell_type": "markdown",
   "metadata": {},
   "source": [
    "#### 14. Identify the max, min, and mean values in *d*. Assign those values to variables *d_max*, *d_min* and *d_mean*."
   ]
  },
  {
   "cell_type": "code",
   "execution_count": 30,
   "metadata": {},
   "outputs": [
    {
     "name": "stdout",
     "output_type": "stream",
     "text": [
      "d_max: 1.9700078134671015\n",
      "d_min: 1.000666870945142\n",
      "d_mean: 1.4903530343842608\n"
     ]
    }
   ],
   "source": [
    "# your code here\n",
    "d_max = np.max(d)\n",
    "d_min = np.min(d)\n",
    "d_mean = np.mean(d)\n",
    "print (\"d_max:\", d_max)\n",
    "print (\"d_min:\", d_min)\n",
    "print (\"d_mean:\", d_mean)"
   ]
  },
  {
   "cell_type": "markdown",
   "metadata": {},
   "source": [
    "#### 15. Now we want to label the values in *d*. First create an empty array *f* with the same shape (i.e. 2x3x5) as *d* using `np.empty`.\n"
   ]
  },
  {
   "cell_type": "code",
   "execution_count": 39,
   "metadata": {},
   "outputs": [
    {
     "data": {
      "text/plain": [
       "array([[[4.36399175e-01, 9.69835058e-02, 8.78809438e-01, 9.70007813e-01,\n",
       "         7.89923629e-01],\n",
       "        [1.57954562e-02, 2.09431208e-01, 8.20058131e-01, 4.94073265e-01,\n",
       "         6.66870945e-04],\n",
       "        [1.27023999e-01, 4.26028512e-01, 9.27382456e-01, 6.22580127e-01,\n",
       "         7.14417915e-01]],\n",
       "\n",
       "       [[1.99900195e-01, 1.75909753e-01, 1.58194481e-01, 4.96004372e-01,\n",
       "         8.86175520e-01],\n",
       "        [7.50897290e-01, 9.69106954e-01, 6.50900811e-01, 2.54672520e-01,\n",
       "         5.38578502e-01],\n",
       "        [1.30795692e-01, 1.42127722e-01, 3.24322306e-01, 5.91772880e-01,\n",
       "         9.11650531e-01]]])"
      ]
     },
     "execution_count": 39,
     "metadata": {},
     "output_type": "execute_result"
    }
   ],
   "source": [
    "# your code here\n",
    "f = np.empty((2, 3, 5))\n",
    "f"
   ]
  },
  {
   "cell_type": "markdown",
   "metadata": {},
   "source": [
    "#### 16. Populate the values in *f*. \n",
    "\n",
    "For each value in *d*, if it's larger than *d_min* but smaller than *d_mean*, assign 25 to the corresponding value in *f*. If a value in *d* is larger than *d_mean* but smaller than *d_max*, assign 75 to the corresponding value in *f*. If a value equals to *d_mean*, assign 50 to the corresponding value in *f*. Assign 0 to the corresponding value(s) in *f* for *d_min* in *d*. Assign 100 to the corresponding value(s) in *f* for *d_max* in *d*. In the end, f should have only the following values: 0, 25, 50, 75, and 100.\n",
    "\n",
    "**Note**: you don't have to use Numpy in this question."
   ]
  },
  {
   "cell_type": "code",
   "execution_count": 41,
   "metadata": {},
   "outputs": [],
   "source": [
    "# your code here\n",
    "\n",
    "f = []\n",
    "for x in d:\n",
    "    g = []\n",
    "    for h in x:\n",
    "        aa = []\n",
    "        for n in h:\n",
    "            if n > d_min and n < d_mean:\n",
    "                aa.append(25)\n",
    "            elif n > d_mean and n < d_max:\n",
    "                aa.append(75)\n",
    "            elif n == d_mean:\n",
    "                aa.append(50)\n",
    "            elif n == d_min:\n",
    "                aa.append(0)\n",
    "            elif n == d_max:\n",
    "                aa.append(100)\n",
    "        r.append(aa)\n",
    "f.append(g)"
   ]
  },
  {
   "cell_type": "markdown",
   "metadata": {},
   "source": [
    "#### 17. Print *d* and *f*. Do you have your expected *f*?\n",
    "For instance, if your *d* is:\n",
    "```python\n",
    "[[[1.85836099, 1.67064465, 1.62576044, 1.40243961, 1.88454931],\n",
    "[1.75354326, 1.69403643, 1.36729252, 1.61415071, 1.12104981],\n",
    "[1.72201435, 1.1862918 , 1.87078449, 1.7726778 , 1.88180042]],\n",
    "[[1.44747908, 1.31673383, 1.02000951, 1.52218947, 1.97066381],\n",
    "[1.79129243, 1.74983003, 1.96028037, 1.85166831, 1.65450881],\n",
    "[1.18068344, 1.9587381 , 1.00656599, 1.93402165, 1.73514584]]]\n",
    "```\n",
    "Your *f* should be:\n",
    "```python\n",
    "[[[ 75.,  75.,  75.,  25.,  75.],\n",
    "[ 75.,  75.,  25.,  25.,  25.],\n",
    "[ 75.,  25.,  75.,  75.,  75.]],\n",
    "[[ 25.,  25.,  25.,  25., 100.],\n",
    "[ 75.,  75.,  75.,  75.,  75.],\n",
    "[ 25.,  75.,   0.,  75.,  75.]]]\n",
    "```"
   ]
  },
  {
   "cell_type": "code",
   "execution_count": null,
   "metadata": {
    "collapsed": true
   },
   "outputs": [],
   "source": [
    "# your code here"
   ]
  },
  {
   "cell_type": "markdown",
   "metadata": {},
   "source": [
    "#### 18. Bonus question: instead of using numbers (i.e. 0, 25, 50, 75, and 100), use string values  (\"A\", \"B\", \"C\", \"D\", and \"E\") to label the array elements. For the example above, the expected result is:\n",
    "\n",
    "```python\n",
    "[[[ 'D',  'D',  'D',  'B',  'D'],\n",
    "[ 'D',  'D',  'B',  'B',  'B'],\n",
    "[ 'D',  'B',  'D',  'D',  'D']],\n",
    "[[ 'B',  'B',  'B',  'B',  'E'],\n",
    "[ 'D',  'D',  'D',  'D',  'D'],\n",
    "[ 'B',  'D',   'A',  'D', 'D']]]\n",
    "```\n",
    "**Note**: you don't have to use Numpy in this question."
   ]
  },
  {
   "cell_type": "code",
   "execution_count": null,
   "metadata": {
    "collapsed": true
   },
   "outputs": [],
   "source": [
    "# your code here"
   ]
  }
 ],
 "metadata": {
  "kernelspec": {
   "display_name": "Python 3",
   "language": "python",
   "name": "python3"
  },
  "language_info": {
   "codemirror_mode": {
    "name": "ipython",
    "version": 3
   },
   "file_extension": ".py",
   "mimetype": "text/x-python",
   "name": "python",
   "nbconvert_exporter": "python",
   "pygments_lexer": "ipython3",
   "version": "3.8.8"
  }
 },
 "nbformat": 4,
 "nbformat_minor": 2
}
