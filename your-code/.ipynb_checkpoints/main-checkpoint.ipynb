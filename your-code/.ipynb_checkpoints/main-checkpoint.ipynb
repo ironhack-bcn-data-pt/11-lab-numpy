{
 "cells": [
  {
   "cell_type": "markdown",
   "metadata": {},
   "source": [
    "# Intrduction to NumPy\n",
    "\n",
    "\n",
    "#### 1. Import NumPy under the name np."
   ]
  },
  {
   "cell_type": "code",
   "execution_count": 1,
   "metadata": {},
   "outputs": [],
   "source": [
    "# your code here\n",
    "import numpy as np"
   ]
  },
  {
   "cell_type": "markdown",
   "metadata": {},
   "source": [
    "#### 2. Print your NumPy version."
   ]
  },
  {
   "cell_type": "code",
   "execution_count": 3,
   "metadata": {},
   "outputs": [
    {
     "name": "stdout",
     "output_type": "stream",
     "text": [
      "1.20.1\n"
     ]
    }
   ],
   "source": [
    "# your code here\n",
    "print(np.__version__)"
   ]
  },
  {
   "cell_type": "markdown",
   "metadata": {},
   "source": [
    "#### 3. Generate a 2x3x5 3-dimensional array with random values. Assign the array to variable *a*.\n",
    "**Challenge**: there are at least three easy ways that use numpy to generate random arrays. How many ways can you find?"
   ]
  },
  {
   "cell_type": "code",
   "execution_count": 25,
   "metadata": {},
   "outputs": [],
   "source": [
    "# Method 1\n",
    "a=np.random.rand(2,3,5)\n"
   ]
  },
  {
   "cell_type": "code",
   "execution_count": 31,
   "metadata": {
    "scrolled": true
   },
   "outputs": [],
   "source": [
    "# Method 2\n",
    "a=np.random.randint(1,100,(2,3,5))\n"
   ]
  },
  {
   "cell_type": "code",
   "execution_count": 32,
   "metadata": {},
   "outputs": [],
   "source": [
    "# Method 3\n",
    "a=np.random.random_sample((2,3,5))\n"
   ]
  },
  {
   "cell_type": "markdown",
   "metadata": {},
   "source": [
    "#### 4. Print *a*.\n"
   ]
  },
  {
   "cell_type": "code",
   "execution_count": 34,
   "metadata": {},
   "outputs": [
    {
     "name": "stdout",
     "output_type": "stream",
     "text": [
      "[[[0.06630595 0.3004102  0.09628555 0.61242419 0.27452794]\n",
      "  [0.63344092 0.49712611 0.90105233 0.66324814 0.98294183]\n",
      "  [0.62573617 0.07787514 0.03785934 0.09620792 0.45550182]]\n",
      "\n",
      " [[0.99885446 0.20232751 0.86891994 0.8777125  0.6210179 ]\n",
      "  [0.64602973 0.46880579 0.63349855 0.49583103 0.50529657]\n",
      "  [0.84286729 0.23346995 0.57393047 0.508995   0.46635653]]]\n"
     ]
    }
   ],
   "source": [
    "# your code here\n",
    "print(a)"
   ]
  },
  {
   "cell_type": "markdown",
   "metadata": {},
   "source": [
    "#### 5. Create a 5x2x3 3-dimensional array with all values equaling 1. Assign the array to variable *b*."
   ]
  },
  {
   "cell_type": "code",
   "execution_count": 76,
   "metadata": {},
   "outputs": [],
   "source": [
    "# your code here\n",
    "#He cambiado la shape a 5,3,2 ya que posteriormente al transponerlo sino no coincide con la shape a\n",
    "b=np.ones((5,3,2))\n"
   ]
  },
  {
   "cell_type": "markdown",
   "metadata": {},
   "source": [
    "#### 6. Print *b*.\n"
   ]
  },
  {
   "cell_type": "code",
   "execution_count": 58,
   "metadata": {},
   "outputs": [
    {
     "name": "stdout",
     "output_type": "stream",
     "text": [
      "[[[1. 1.]\n",
      "  [1. 1.]\n",
      "  [1. 1.]]\n",
      "\n",
      " [[1. 1.]\n",
      "  [1. 1.]\n",
      "  [1. 1.]]\n",
      "\n",
      " [[1. 1.]\n",
      "  [1. 1.]\n",
      "  [1. 1.]]\n",
      "\n",
      " [[1. 1.]\n",
      "  [1. 1.]\n",
      "  [1. 1.]]\n",
      "\n",
      " [[1. 1.]\n",
      "  [1. 1.]\n",
      "  [1. 1.]]]\n"
     ]
    }
   ],
   "source": [
    "# your code here\n",
    "print(b)"
   ]
  },
  {
   "cell_type": "markdown",
   "metadata": {},
   "source": [
    "#### 7. Do *a* and *b* have the same size? How do you prove that in Python code?"
   ]
  },
  {
   "cell_type": "code",
   "execution_count": 59,
   "metadata": {},
   "outputs": [
    {
     "data": {
      "text/plain": [
       "True"
      ]
     },
     "execution_count": 59,
     "metadata": {},
     "output_type": "execute_result"
    }
   ],
   "source": [
    "# your code here\n",
    "a.size==b.size"
   ]
  },
  {
   "cell_type": "markdown",
   "metadata": {},
   "source": [
    "#### 8. Are you able to add *a* and *b*? Why or why not?\n"
   ]
  },
  {
   "cell_type": "code",
   "execution_count": 41,
   "metadata": {},
   "outputs": [],
   "source": [
    "# your answer here\n",
    "#No es posible por que tienen diferentes shapes"
   ]
  },
  {
   "cell_type": "markdown",
   "metadata": {},
   "source": [
    "#### 9. Transpose *b* so that it has the same structure of *a* (i.e. become a 2x3x5 array). Assign the transposed array to variable *c*."
   ]
  },
  {
   "cell_type": "code",
   "execution_count": 60,
   "metadata": {},
   "outputs": [
    {
     "name": "stdout",
     "output_type": "stream",
     "text": [
      "[[[1. 1. 1. 1. 1.]\n",
      "  [1. 1. 1. 1. 1.]\n",
      "  [1. 1. 1. 1. 1.]]\n",
      "\n",
      " [[1. 1. 1. 1. 1.]\n",
      "  [1. 1. 1. 1. 1.]\n",
      "  [1. 1. 1. 1. 1.]]]\n"
     ]
    }
   ],
   "source": [
    "# your code here\n",
    "c=b.T\n",
    "print(c)"
   ]
  },
  {
   "cell_type": "markdown",
   "metadata": {},
   "source": [
    "#### 10. Try to add *a* and *c*. Now it should work. Assign the sum to variable *d*. But why does it work now?"
   ]
  },
  {
   "cell_type": "code",
   "execution_count": 61,
   "metadata": {},
   "outputs": [
    {
     "name": "stdout",
     "output_type": "stream",
     "text": [
      "[[[1.06630595 1.3004102  1.09628555 1.61242419 1.27452794]\n",
      "  [1.63344092 1.49712611 1.90105233 1.66324814 1.98294183]\n",
      "  [1.62573617 1.07787514 1.03785934 1.09620792 1.45550182]]\n",
      "\n",
      " [[1.99885446 1.20232751 1.86891994 1.8777125  1.6210179 ]\n",
      "  [1.64602973 1.46880579 1.63349855 1.49583103 1.50529657]\n",
      "  [1.84286729 1.23346995 1.57393047 1.508995   1.46635653]]]\n"
     ]
    }
   ],
   "source": [
    "# your code/answer here\n",
    "#Hemos modificado la shape del array y ya funciona\n",
    "d=a+c\n",
    "print(d)"
   ]
  },
  {
   "cell_type": "markdown",
   "metadata": {},
   "source": [
    "#### 11. Print *a* and *d*. Notice the difference and relation of the two array in terms of the values? Explain."
   ]
  },
  {
   "cell_type": "code",
   "execution_count": 63,
   "metadata": {},
   "outputs": [
    {
     "name": "stdout",
     "output_type": "stream",
     "text": [
      "[[[0.06630595 0.3004102  0.09628555 0.61242419 0.27452794]\n",
      "  [0.63344092 0.49712611 0.90105233 0.66324814 0.98294183]\n",
      "  [0.62573617 0.07787514 0.03785934 0.09620792 0.45550182]]\n",
      "\n",
      " [[0.99885446 0.20232751 0.86891994 0.8777125  0.6210179 ]\n",
      "  [0.64602973 0.46880579 0.63349855 0.49583103 0.50529657]\n",
      "  [0.84286729 0.23346995 0.57393047 0.508995   0.46635653]]]\n",
      "[[[1.06630595 1.3004102  1.09628555 1.61242419 1.27452794]\n",
      "  [1.63344092 1.49712611 1.90105233 1.66324814 1.98294183]\n",
      "  [1.62573617 1.07787514 1.03785934 1.09620792 1.45550182]]\n",
      "\n",
      " [[1.99885446 1.20232751 1.86891994 1.8777125  1.6210179 ]\n",
      "  [1.64602973 1.46880579 1.63349855 1.49583103 1.50529657]\n",
      "  [1.84286729 1.23346995 1.57393047 1.508995   1.46635653]]]\n"
     ]
    }
   ],
   "source": [
    "# your code/answer here\n",
    "print(a)\n",
    "print(d)\n",
    "#El array d es una unidad mayor que el a en cada elemento del array"
   ]
  },
  {
   "cell_type": "markdown",
   "metadata": {},
   "source": [
    "#### 12. Multiply *a* and *c*. Assign the result to *e*."
   ]
  },
  {
   "cell_type": "code",
   "execution_count": 64,
   "metadata": {},
   "outputs": [],
   "source": [
    "# your code here\n",
    "e=a*c"
   ]
  },
  {
   "cell_type": "markdown",
   "metadata": {},
   "source": [
    "#### 13. Does *e* equal to *a*? Why or why not?\n"
   ]
  },
  {
   "cell_type": "code",
   "execution_count": 66,
   "metadata": {},
   "outputs": [
    {
     "data": {
      "text/plain": [
       "array([[[ True,  True,  True,  True,  True],\n",
       "        [ True,  True,  True,  True,  True],\n",
       "        [ True,  True,  True,  True,  True]],\n",
       "\n",
       "       [[ True,  True,  True,  True,  True],\n",
       "        [ True,  True,  True,  True,  True],\n",
       "        [ True,  True,  True,  True,  True]]])"
      ]
     },
     "execution_count": 66,
     "metadata": {},
     "output_type": "execute_result"
    }
   ],
   "source": [
    "# your code/answer here\n",
    "a==e\n",
    "#a es igual a e ya que hemos multiplicado por 1 cada uno de los elementos"
   ]
  },
  {
   "cell_type": "markdown",
   "metadata": {},
   "source": [
    "#### 14. Identify the max, min, and mean values in *d*. Assign those values to variables *d_max*, *d_min* and *d_mean*."
   ]
  },
  {
   "cell_type": "code",
   "execution_count": 68,
   "metadata": {},
   "outputs": [],
   "source": [
    "# your code here\n",
    "d_max=np.max(d)\n",
    "d_min=np.min(d)\n",
    "d_mean=np.mean(d)"
   ]
  },
  {
   "cell_type": "markdown",
   "metadata": {},
   "source": [
    "#### 15. Now we want to label the values in *d*. First create an empty array *f* with the same shape (i.e. 2x3x5) as *d* using `np.empty`.\n"
   ]
  },
  {
   "cell_type": "code",
   "execution_count": 82,
   "metadata": {},
   "outputs": [
    {
     "data": {
      "text/plain": [
       "array([[[1.06630595, 1.3004102 , 1.09628555, 1.61242419, 1.27452794],\n",
       "        [1.63344092, 1.49712611, 1.90105233, 1.66324814, 1.98294183],\n",
       "        [1.62573617, 1.07787514, 1.03785934, 1.09620792, 1.45550182]],\n",
       "\n",
       "       [[1.99885446, 1.20232751, 1.86891994, 1.8777125 , 1.6210179 ],\n",
       "        [1.64602973, 1.46880579, 1.63349855, 1.49583103, 1.50529657],\n",
       "        [1.84286729, 1.23346995, 1.57393047, 1.508995  , 1.46635653]]])"
      ]
     },
     "execution_count": 82,
     "metadata": {},
     "output_type": "execute_result"
    }
   ],
   "source": [
    "# your code here\n",
    "f=np.empty([2,3,5])\n",
    "f"
   ]
  },
  {
   "cell_type": "markdown",
   "metadata": {},
   "source": [
    "#### 16. Populate the values in *f*. \n",
    "\n",
    "For each value in *d*, if it's larger than *d_min* but smaller than *d_mean*, assign 25 to the corresponding value in *f*. If a value in *d* is larger than *d_mean* but smaller than *d_max*, assign 75 to the corresponding value in *f*. If a value equals to *d_mean*, assign 50 to the corresponding value in *f*. Assign 0 to the corresponding value(s) in *f* for *d_min* in *d*. Assign 100 to the corresponding value(s) in *f* for *d_max* in *d*. In the end, f should have only the following values: 0, 25, 50, 75, and 100.\n",
    "\n",
    "**Note**: you don't have to use Numpy in this question."
   ]
  },
  {
   "cell_type": "code",
   "execution_count": 147,
   "metadata": {},
   "outputs": [],
   "source": [
    "# your code here/ Primero creo un bucle que me de d[i,n,o] para poder clasificar ese resultado en f[i,n,o]\n",
    "for i in range(len(d.shape)-1):\n",
    "    #d[i]\n",
    "    for n in range((d.shape[1])):\n",
    "        #d[i][n]\n",
    "        for o in range(d.shape[2]):\n",
    "            #d[i][n][o]\n",
    "            #primera condicion\n",
    "            if d[i,n,o]>d_min and d[i,n,o]<d_mean:\n",
    "                f[i,n,o]=25\n",
    "            #segunda condicion\n",
    "            elif d[i,n,o]>d_mean and d[i,n,o]<d_max:\n",
    "                f[i,n,o]=75\n",
    "            #tercera condicion\n",
    "            elif d[i,n,o]==d_mean:\n",
    "                f[i,n,o]=50\n",
    "            #cuarta condicion\n",
    "            elif d[i,n,o]==d_min:\n",
    "                f[i,n,o]=0\n",
    "            #quinta condicion\n",
    "            elif d[i,n,o]==d_max:\n",
    "                f[i,n,o]=100\n",
    "            \n",
    "        \n",
    "              \n",
    "    \n",
    "    "
   ]
  },
  {
   "cell_type": "markdown",
   "metadata": {},
   "source": [
    "#### 17. Print *d* and *f*. Do you have your expected *f*?\n",
    "For instance, if your *d* is:\n",
    "```python\n",
    "[[[1.85836099, 1.67064465, 1.62576044, 1.40243961, 1.88454931],\n",
    "[1.75354326, 1.69403643, 1.36729252, 1.61415071, 1.12104981],\n",
    "[1.72201435, 1.1862918 , 1.87078449, 1.7726778 , 1.88180042]],\n",
    "[[1.44747908, 1.31673383, 1.02000951, 1.52218947, 1.97066381],\n",
    "[1.79129243, 1.74983003, 1.96028037, 1.85166831, 1.65450881],\n",
    "[1.18068344, 1.9587381 , 1.00656599, 1.93402165, 1.73514584]]]\n",
    "```\n",
    "Your *f* should be:\n",
    "```python\n",
    "[[[ 75.,  75.,  75.,  25.,  75.],\n",
    "[ 75.,  75.,  25.,  25.,  25.],\n",
    "[ 75.,  25.,  75.,  75.,  75.]],\n",
    "[[ 25.,  25.,  25.,  25., 100.],\n",
    "[ 75.,  75.,  75.,  75.,  75.],\n",
    "[ 25.,  75.,   0.,  75.,  75.]]]\n",
    "```"
   ]
  },
  {
   "cell_type": "code",
   "execution_count": 148,
   "metadata": {},
   "outputs": [
    {
     "name": "stdout",
     "output_type": "stream",
     "text": [
      "[[[1.06630595 1.3004102  1.09628555 1.61242419 1.27452794]\n",
      "  [1.63344092 1.49712611 1.90105233 1.66324814 1.98294183]\n",
      "  [1.62573617 1.07787514 1.03785934 1.09620792 1.45550182]]\n",
      "\n",
      " [[1.99885446 1.20232751 1.86891994 1.8777125  1.6210179 ]\n",
      "  [1.64602973 1.46880579 1.63349855 1.49583103 1.50529657]\n",
      "  [1.84286729 1.23346995 1.57393047 1.508995   1.46635653]]]\n",
      "[[[ 25.  25.  25.  75.  25.]\n",
      "  [ 75.  25.  75.  75.  75.]\n",
      "  [ 75.  25.   0.  25.  25.]]\n",
      "\n",
      " [[100.  25.  75.  75.  75.]\n",
      "  [ 75.  25.  75.  25.  25.]\n",
      "  [ 75.  25.  75.  75.  25.]]]\n"
     ]
    }
   ],
   "source": [
    "# your code here\n",
    "print(d)\n",
    "print(f)"
   ]
  },
  {
   "cell_type": "markdown",
   "metadata": {},
   "source": [
    "#### 18. Bonus question: instead of using numbers (i.e. 0, 25, 50, 75, and 100), use string values  (\"A\", \"B\", \"C\", \"D\", and \"E\") to label the array elements. For the example above, the expected result is:\n",
    "\n",
    "```python\n",
    "[[[ 'D',  'D',  'D',  'B',  'D'],\n",
    "[ 'D',  'D',  'B',  'B',  'B'],\n",
    "[ 'D',  'B',  'D',  'D',  'D']],\n",
    "[[ 'B',  'B',  'B',  'B',  'E'],\n",
    "[ 'D',  'D',  'D',  'D',  'D'],\n",
    "[ 'B',  'D',   'A',  'D', 'D']]]\n",
    "```\n",
    "**Note**: you don't have to use Numpy in this question."
   ]
  },
  {
   "cell_type": "code",
   "execution_count": 166,
   "metadata": {},
   "outputs": [
    {
     "name": "stderr",
     "output_type": "stream",
     "text": [
      "<ipython-input-166-14bd4fff6bd8>:3: DeprecationWarning: `np.float` is a deprecated alias for the builtin `float`. To silence this warning, use `float` by itself. Doing this will not modify any behavior and is safe. If you specifically wanted the numpy scalar type, use `np.float64` here.\n",
      "Deprecated in NumPy 1.20; for more details and guidance: https://numpy.org/devdocs/release/1.20.0-notes.html#deprecations\n",
      "  f2=f.astype(np.float)\n"
     ]
    }
   ],
   "source": [
    "# your code here\n",
    "#Igual que antes pero el arrai inicial tiene que ser de tipo str, lo que no se es como solventar la alarma, pero acaba funcionando\n",
    "g=np.chararray((2, 3,5),unicode=True)\n",
    "f2=f.astype(np.float)\n",
    "for i in range(len(f.shape)-1):\n",
    "    #d[i]\n",
    "    for n in range((f.shape[1])):\n",
    "        #d[i][n]\n",
    "        for o in range(f.shape[2]):\n",
    "            if f[i,n,o]==0:\n",
    "                g[i,n,o]=\"A\"\n",
    "            elif f[i,n,o]==25:\n",
    "                g[i,n,o]=\"B\"\n",
    "            elif f[i,n,o]==50:\n",
    "                g[i,n,o]=\"C\"\n",
    "            elif f[i,n,o]==75:\n",
    "                g[i,n,o]=\"D\"\n",
    "            elif f[i,n,o]==100:\n",
    "                g[i,n,o]=\"E\"\n",
    "\n",
    "                "
   ]
  },
  {
   "cell_type": "code",
   "execution_count": 168,
   "metadata": {},
   "outputs": [
    {
     "name": "stdout",
     "output_type": "stream",
     "text": [
      "[[['B' 'B' 'B' 'D' 'B']\n",
      "  ['D' 'B' 'D' 'D' 'D']\n",
      "  ['D' 'B' 'A' 'B' 'B']]\n",
      "\n",
      " [['E' 'B' 'D' 'D' 'D']\n",
      "  ['D' 'B' 'D' 'B' 'B']\n",
      "  ['D' 'B' 'D' 'D' 'B']]]\n"
     ]
    }
   ],
   "source": [
    "print(g)\n"
   ]
  },
  {
   "cell_type": "code",
   "execution_count": null,
   "metadata": {},
   "outputs": [],
   "source": []
  }
 ],
 "metadata": {
  "kernelspec": {
   "display_name": "Python 3",
   "language": "python",
   "name": "python3"
  },
  "language_info": {
   "codemirror_mode": {
    "name": "ipython",
    "version": 3
   },
   "file_extension": ".py",
   "mimetype": "text/x-python",
   "name": "python",
   "nbconvert_exporter": "python",
   "pygments_lexer": "ipython3",
   "version": "3.8.8"
  }
 },
 "nbformat": 4,
 "nbformat_minor": 2
}
