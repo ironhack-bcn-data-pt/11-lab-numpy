{
 "cells": [
  {
   "cell_type": "markdown",
   "metadata": {},
   "source": [
    "# Intrduction to NumPy\n",
    "\n",
    "\n",
    "#### 1. Import NumPy under the name np."
   ]
  },
  {
   "cell_type": "code",
   "execution_count": 2,
   "metadata": {},
   "outputs": [],
   "source": [
    "# your code here\n",
    "import numpy as np"
   ]
  },
  {
   "cell_type": "markdown",
   "metadata": {},
   "source": [
    "#### 2. Print your NumPy version."
   ]
  },
  {
   "cell_type": "code",
   "execution_count": 3,
   "metadata": {},
   "outputs": [
    {
     "data": {
      "text/plain": [
       "'1.20.1'"
      ]
     },
     "execution_count": 3,
     "metadata": {},
     "output_type": "execute_result"
    }
   ],
   "source": [
    "# your code here\n",
    "np.__version__"
   ]
  },
  {
   "cell_type": "markdown",
   "metadata": {},
   "source": [
    "#### 3. Generate a 2x3x5 3-dimensional array with random values. Assign the array to variable *a*.\n",
    "**Challenge**: there are at least three easy ways that use numpy to generate random arrays. How many ways can you find?"
   ]
  },
  {
   "cell_type": "code",
   "execution_count": 4,
   "metadata": {},
   "outputs": [],
   "source": [
    "# Method 1\n",
    "a= np.random.randint(1,100,(2,3,5))"
   ]
  },
  {
   "cell_type": "code",
   "execution_count": 5,
   "metadata": {},
   "outputs": [
    {
     "data": {
      "text/plain": [
       "array([[[ 0, 24, 75, 15, 24],\n",
       "        [77, 91, 40,  2, 70],\n",
       "        [56, 54, 24, 41, 74]],\n",
       "\n",
       "       [[15, 12, 96, 66, 84],\n",
       "        [93, 20, 31, 98, 90],\n",
       "        [87, 13, 33, 48, 14]]])"
      ]
     },
     "execution_count": 5,
     "metadata": {},
     "output_type": "execute_result"
    }
   ],
   "source": [
    "# Method 2\n",
    "(np.random.rand(2,3,5)*100).astype('int32') #solución encontrada aquí: https://docs.scipy.org/doc/numpy-1.15.1/reference/generated/numpy.random.rand.html"
   ]
  },
  {
   "cell_type": "code",
   "execution_count": 13,
   "metadata": {},
   "outputs": [
    {
     "name": "stderr",
     "output_type": "stream",
     "text": [
      "<ipython-input-13-4ea19c8b10b1>:2: DeprecationWarning: This function is deprecated. Please call randint(1, 100 + 1) instead\n",
      "  np.random.random_integers(100,size=(2,3,5))\n"
     ]
    },
    {
     "data": {
      "text/plain": [
       "array([[[48, 68, 26, 94, 45],\n",
       "        [68, 52, 76, 63, 11],\n",
       "        [43, 34, 37, 17, 82]],\n",
       "\n",
       "       [[19, 61, 53, 52, 97],\n",
       "        [28, 85, 28, 53, 54],\n",
       "        [71, 16, 29, 61,  3]]])"
      ]
     },
     "execution_count": 13,
     "metadata": {},
     "output_type": "execute_result"
    }
   ],
   "source": [
    "# Method 3\n",
    "np.random.random_integers(100,size=(2,3,5))"
   ]
  },
  {
   "cell_type": "markdown",
   "metadata": {},
   "source": [
    "#### 4. Print *a*.\n"
   ]
  },
  {
   "cell_type": "code",
   "execution_count": 6,
   "metadata": {},
   "outputs": [
    {
     "name": "stdout",
     "output_type": "stream",
     "text": [
      "[[[82 28 73 57 63]\n",
      "  [19  9  5 98 47]\n",
      "  [46 51  1 17 30]]\n",
      "\n",
      " [[40 70 40 32  1]\n",
      "  [84 85 95 20 50]\n",
      "  [68 85 99  5 86]]]\n"
     ]
    }
   ],
   "source": [
    "# your code here\n",
    "print(a)"
   ]
  },
  {
   "cell_type": "markdown",
   "metadata": {},
   "source": [
    "#### 5. Create a 5x2x3 3-dimensional array with all values equaling 1. Assign the array to variable *b*."
   ]
  },
  {
   "cell_type": "code",
   "execution_count": 7,
   "metadata": {},
   "outputs": [],
   "source": [
    "# your code here\n",
    "b=np.ones((5,2,3),'int32')"
   ]
  },
  {
   "cell_type": "markdown",
   "metadata": {},
   "source": [
    "#### 6. Print *b*.\n"
   ]
  },
  {
   "cell_type": "code",
   "execution_count": 8,
   "metadata": {},
   "outputs": [
    {
     "name": "stdout",
     "output_type": "stream",
     "text": [
      "[[[1 1 1]\n",
      "  [1 1 1]]\n",
      "\n",
      " [[1 1 1]\n",
      "  [1 1 1]]\n",
      "\n",
      " [[1 1 1]\n",
      "  [1 1 1]]\n",
      "\n",
      " [[1 1 1]\n",
      "  [1 1 1]]\n",
      "\n",
      " [[1 1 1]\n",
      "  [1 1 1]]]\n"
     ]
    }
   ],
   "source": [
    "# your code here\n",
    "print(b)"
   ]
  },
  {
   "cell_type": "markdown",
   "metadata": {},
   "source": [
    "#### 7. Do *a* and *b* have the same size? How do you prove that in Python code?"
   ]
  },
  {
   "cell_type": "code",
   "execution_count": 9,
   "metadata": {},
   "outputs": [
    {
     "data": {
      "text/plain": [
       "True"
      ]
     },
     "execution_count": 9,
     "metadata": {},
     "output_type": "execute_result"
    }
   ],
   "source": [
    "# your code here \n",
    "#size is = total number of elements of an array and there is a function for it...\n",
    "a.size==b.size\n"
   ]
  },
  {
   "cell_type": "markdown",
   "metadata": {},
   "source": [
    "#### 8. Are you able to add *a* and *b*? Why or why not?\n"
   ]
  },
  {
   "cell_type": "code",
   "execution_count": 10,
   "metadata": {},
   "outputs": [
    {
     "data": {
      "text/plain": [
       "False"
      ]
     },
     "execution_count": 10,
     "metadata": {},
     "output_type": "execute_result"
    }
   ],
   "source": [
    "# your answer here\n",
    "#a+b\n",
    "# We can't because the shapes of both array are diferents\n",
    "a.shape==b.shape"
   ]
  },
  {
   "cell_type": "markdown",
   "metadata": {},
   "source": [
    "#### 9. Transpose *b* so that it has the same structure of *a* (i.e. become a 2x3x5 array). Assign the transposed array to variable *c*."
   ]
  },
  {
   "cell_type": "code",
   "execution_count": 11,
   "metadata": {},
   "outputs": [],
   "source": [
    "# your code here\n",
    "c=b.reshape(2,3,5)\n"
   ]
  },
  {
   "cell_type": "markdown",
   "metadata": {},
   "source": [
    "#### 10. Try to add *a* and *c*. Now it should work. Assign the sum to variable *d*. But why does it work now?"
   ]
  },
  {
   "cell_type": "code",
   "execution_count": 12,
   "metadata": {},
   "outputs": [
    {
     "data": {
      "text/plain": [
       "True"
      ]
     },
     "execution_count": 12,
     "metadata": {},
     "output_type": "execute_result"
    }
   ],
   "source": [
    "# your code/answer here\n",
    "d=a+c\n",
    "#because a and c have the same shape\n",
    "a.shape==c.shape"
   ]
  },
  {
   "cell_type": "markdown",
   "metadata": {},
   "source": [
    "#### 11. Print *a* and *d*. Notice the difference and relation of the two array in terms of the values? Explain."
   ]
  },
  {
   "cell_type": "code",
   "execution_count": 38,
   "metadata": {},
   "outputs": [
    {
     "name": "stdout",
     "output_type": "stream",
     "text": [
      "[[[82 28 73 57 63]\n",
      "  [19  9  5 98 47]\n",
      "  [46 51  1 17 30]]\n",
      "\n",
      " [[40 70 40 32  1]\n",
      "  [84 85 95 20 50]\n",
      "  [68 85 99  5 86]]]\n",
      "[[[ 83  29  74  58  64]\n",
      "  [ 20  10   6  99  48]\n",
      "  [ 47  52   2  18  31]]\n",
      "\n",
      " [[ 41  71  41  33   2]\n",
      "  [ 85  86  96  21  51]\n",
      "  [ 69  86 100   6  87]]]\n"
     ]
    }
   ],
   "source": [
    "# your code/answer here\n",
    "print(a)\n",
    "print(d)\n",
    "#each value in d is the same value in a + 1."
   ]
  },
  {
   "cell_type": "markdown",
   "metadata": {},
   "source": [
    "#### 12. Multiply *a* and *c*. Assign the result to *e*."
   ]
  },
  {
   "cell_type": "code",
   "execution_count": 14,
   "metadata": {},
   "outputs": [],
   "source": [
    "# your code here\n",
    "e=a*c"
   ]
  },
  {
   "cell_type": "markdown",
   "metadata": {},
   "source": [
    "#### 13. Does *e* equal to *a*? Why or why not?\n"
   ]
  },
  {
   "cell_type": "code",
   "execution_count": 15,
   "metadata": {},
   "outputs": [
    {
     "name": "stdout",
     "output_type": "stream",
     "text": [
      "[[[82 28 73 57 63]\n",
      "  [19  9  5 98 47]\n",
      "  [46 51  1 17 30]]\n",
      "\n",
      " [[40 70 40 32  1]\n",
      "  [84 85 95 20 50]\n",
      "  [68 85 99  5 86]]]\n",
      "[[[82 28 73 57 63]\n",
      "  [19  9  5 98 47]\n",
      "  [46 51  1 17 30]]\n",
      "\n",
      " [[40 70 40 32  1]\n",
      "  [84 85 95 20 50]\n",
      "  [68 85 99  5 86]]]\n"
     ]
    }
   ],
   "source": [
    "# your code/answer here\n",
    "print(e)\n",
    "print(a)\n",
    "# yes is equal because e = each value of array a multiplay for each value og array c (which is equal to 1)"
   ]
  },
  {
   "cell_type": "markdown",
   "metadata": {},
   "source": [
    "#### 14. Identify the max, min, and mean values in *d*. Assign those values to variables *d_max*, *d_min* and *d_mean*."
   ]
  },
  {
   "cell_type": "code",
   "execution_count": 37,
   "metadata": {},
   "outputs": [],
   "source": [
    "# your code here\n",
    "d_max=np.max(d)\n",
    "d_min=np.min(d)\n",
    "d_mean=np.mean(d)"
   ]
  },
  {
   "cell_type": "markdown",
   "metadata": {},
   "source": [
    "#### 15. Now we want to label the values in *d*. First create an empty array *f* with the same shape (i.e. 2x3x5) as *d* using `np.empty`.\n"
   ]
  },
  {
   "cell_type": "code",
   "execution_count": 46,
   "metadata": {},
   "outputs": [
    {
     "data": {
      "text/plain": [
       "29"
      ]
     },
     "execution_count": 46,
     "metadata": {},
     "output_type": "execute_result"
    }
   ],
   "source": [
    "# your code here\n",
    "f=np.empty((2,3,5),'int32')\n",
    "d[0][0][1]"
   ]
  },
  {
   "cell_type": "markdown",
   "metadata": {},
   "source": [
    "#### 16. Populate the values in *f*. \n",
    "\n",
    "For each value in *d*, if it's larger than *d_min* but smaller than *d_mean*, assign 25 to the corresponding value in *f*. If a value in *d* is larger than *d_mean* but smaller than *d_max*, assign 75 to the corresponding value in *f*. If a value equals to *d_mean*, assign 50 to the corresponding value in *f*. Assign 0 to the corresponding value(s) in *f* for *d_min* in *d*. Assign 100 to the corresponding value(s) in *f* for *d_max* in *d*. In the end, f should have only the following values: 0, 25, 50, 75, and 100.\n",
    "\n",
    "**Note**: you don't have to use Numpy in this question."
   ]
  },
  {
   "cell_type": "code",
   "execution_count": 67,
   "metadata": {},
   "outputs": [
    {
     "name": "stdout",
     "output_type": "stream",
     "text": [
      "[[[ 75  25  75  75  75]\n",
      "  [ 25  25  25  75  25]\n",
      "  [ 25  75   0  25  25]]\n",
      "\n",
      " [[ 25  75  25  25   0]\n",
      "  [ 75  75  75  25  75]\n",
      "  [ 75  75 100  25  75]]]\n"
     ]
    }
   ],
   "source": [
    "# your code here\n",
    "index_i=0\n",
    "\n",
    "\n",
    "for i in d:\n",
    "    index_j=0\n",
    "  \n",
    "    for j in i:\n",
    "        index_k=0        \n",
    "       \n",
    "        for k in j:\n",
    "            \n",
    "            if k > d_min and k < d_mean:  #it's larger than d_min but smaller than d_mean\n",
    "                f[index_i][index_j][index_k]=25\n",
    "                index_k += 1\n",
    "            elif k > d_mean and k < d_max:  #is larger than d_mean but smaller than d_max\n",
    "                f[index_i][index_j][index_k]=75\n",
    "                index_k += 1\n",
    "            elif k==d_mean: #a value equals to d_mean\n",
    "                f[index_i][index_j][index_k]=50\n",
    "                index_k += 1\n",
    "            elif k==d_min: #n f for d_min in d\n",
    "                f[index_i][index_j][index_k]=0\n",
    "                index_k += 1\n",
    "            elif k==d_max: #n f for d_max in d\n",
    "                f[index_i][index_j][index_k]=100\n",
    "                index_k += 1\n",
    "            else:\n",
    "                index_k += 1\n",
    "                pass\n",
    "        index_j += 1\n",
    "    index_i += 1\n",
    "\n",
    "         "
   ]
  },
  {
   "cell_type": "markdown",
   "metadata": {},
   "source": [
    "#### 17. Print *d* and *f*. Do you have your expected *f*?\n",
    "For instance, if your *d* is:\n",
    "```python\n",
    "[[[1.85836099, 1.67064465, 1.62576044, 1.40243961, 1.88454931],\n",
    "[1.75354326, 1.69403643, 1.36729252, 1.61415071, 1.12104981],\n",
    "[1.72201435, 1.1862918 , 1.87078449, 1.7726778 , 1.88180042]],\n",
    "[[1.44747908, 1.31673383, 1.02000951, 1.52218947, 1.97066381],\n",
    "[1.79129243, 1.74983003, 1.96028037, 1.85166831, 1.65450881],\n",
    "[1.18068344, 1.9587381 , 1.00656599, 1.93402165, 1.73514584]]]\n",
    "```\n",
    "Your *f* should be:\n",
    "```python\n",
    "[[[ 75.,  75.,  75.,  25.,  75.],\n",
    "[ 75.,  75.,  25.,  25.,  25.],\n",
    "[ 75.,  25.,  75.,  75.,  75.]],\n",
    "[[ 25.,  25.,  25.,  25., 100.],\n",
    "[ 75.,  75.,  75.,  75.,  75.],\n",
    "[ 25.,  75.,   0.,  75.,  75.]]]\n",
    "```"
   ]
  },
  {
   "cell_type": "code",
   "execution_count": 68,
   "metadata": {},
   "outputs": [
    {
     "name": "stdout",
     "output_type": "stream",
     "text": [
      "[[[ 83  29  74  58  64]\n",
      "  [ 20  10   6  99  48]\n",
      "  [ 47  52   2  18  31]]\n",
      "\n",
      " [[ 41  71  41  33   2]\n",
      "  [ 85  86  96  21  51]\n",
      "  [ 69  86 100   6  87]]]\n",
      "[[[ 75  25  75  75  75]\n",
      "  [ 25  25  25  75  25]\n",
      "  [ 25  75   0  25  25]]\n",
      "\n",
      " [[ 25  75  25  25   0]\n",
      "  [ 75  75  75  25  75]\n",
      "  [ 75  75 100  25  75]]]\n"
     ]
    }
   ],
   "source": [
    "# your code here\n",
    "print(d)\n",
    "print(f)"
   ]
  },
  {
   "cell_type": "markdown",
   "metadata": {},
   "source": [
    "#### 18. Bonus question: instead of using numbers (i.e. 0, 25, 50, 75, and 100), use string values  (\"A\", \"B\", \"C\", \"D\", and \"E\") to label the array elements. For the example above, the expected result is:\n",
    "\n",
    "```python\n",
    "[[[ 'D',  'D',  'D',  'B',  'D'],\n",
    "[ 'D',  'D',  'B',  'B',  'B'],\n",
    "[ 'D',  'B',  'D',  'D',  'D']],\n",
    "[[ 'B',  'B',  'B',  'B',  'E'],\n",
    "[ 'D',  'D',  'D',  'D',  'D'],\n",
    "[ 'B',  'D',   'A',  'D', 'D']]]\n",
    "```\n",
    "**Note**: you don't have to use Numpy in this question."
   ]
  },
  {
   "cell_type": "code",
   "execution_count": 74,
   "metadata": {},
   "outputs": [],
   "source": [
    "# your code here\n",
    "arr_labels= f.astype('object') #convierto la array a tipo objeto para que alojo solo datos de tipo string\n",
    "\n",
    "index_i=0\n",
    "for i in d:\n",
    "    index_j=0\n",
    "  \n",
    "    for j in i:\n",
    "        index_k=0        \n",
    "       \n",
    "        for k in j:\n",
    "            \n",
    "            if k > d_min and k < d_mean:  #it's larger than d_min but smaller than d_mean\n",
    "                arr_labels[index_i][index_j][index_k]=\"B\"\n",
    "                index_k += 1\n",
    "            elif k > d_mean and k < d_max:  #is larger than d_mean but smaller than d_max\n",
    "                arr_labels[index_i][index_j][index_k]=\"D\"\n",
    "                index_k += 1\n",
    "            elif k==d_mean: #a value equals to d_mean\n",
    "                arr_labels[index_i][index_j][index_k]=\"C\"\n",
    "                index_k += 1\n",
    "            elif k==d_min: #n f for d_min in d\n",
    "                arr_labels[index_i][index_j][index_k]=\"A\"\n",
    "                index_k += 1\n",
    "            elif k==d_max: #n f for d_max in d\n",
    "                arr_labels[index_i][index_j][index_k]=\"E\"\n",
    "                index_k += 1\n",
    "            else:\n",
    "                index_k += 1\n",
    "                pass\n",
    "        index_j += 1\n",
    "    index_i += 1\n",
    "    \n",
    "print(arr_labels)"
   ]
  }
 ],
 "metadata": {
  "kernelspec": {
   "display_name": "Python 3",
   "language": "python",
   "name": "python3"
  },
  "language_info": {
   "codemirror_mode": {
    "name": "ipython",
    "version": 3
   },
   "file_extension": ".py",
   "mimetype": "text/x-python",
   "name": "python",
   "nbconvert_exporter": "python",
   "pygments_lexer": "ipython3",
   "version": "3.8.8"
  }
 },
 "nbformat": 4,
 "nbformat_minor": 2
}
