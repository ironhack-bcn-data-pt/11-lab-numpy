{
 "cells": [
  {
   "cell_type": "markdown",
   "metadata": {},
   "source": [
    "# Intrduction to NumPy\n",
    "\n",
    "\n",
    "#### 1. Import NumPy under the name np."
   ]
  },
  {
   "cell_type": "code",
   "execution_count": 5,
   "metadata": {},
   "outputs": [],
   "source": [
    "# your code here\n",
    "import numpy as np"
   ]
  },
  {
   "cell_type": "markdown",
   "metadata": {},
   "source": [
    "#### 2. Print your NumPy version."
   ]
  },
  {
   "cell_type": "code",
   "execution_count": 6,
   "metadata": {},
   "outputs": [
    {
     "name": "stdout",
     "output_type": "stream",
     "text": [
      "1.19.2\n"
     ]
    }
   ],
   "source": [
    "# your code here\n",
    "print(np.__version__)"
   ]
  },
  {
   "cell_type": "markdown",
   "metadata": {},
   "source": [
    "#### 3. Generate a 2x3x5 3-dimensional array with random values. Assign the array to variable *a*.\n",
    "**Challenge**: there are at least three easy ways that use numpy to generate random arrays. How many ways can you find?"
   ]
  },
  {
   "cell_type": "code",
   "execution_count": 13,
   "metadata": {},
   "outputs": [
    {
     "name": "stdout",
     "output_type": "stream",
     "text": [
      "[[[1 7 1 4 9]\n",
      "  [8 2 4 2 4]\n",
      "  [2 2 7 3 0]]\n",
      "\n",
      " [[2 4 9 0 0]\n",
      "  [1 2 3 0 8]\n",
      "  [3 3 0 5 6]]]\n"
     ]
    }
   ],
   "source": [
    "# Method 1\n",
    "#We use Numpy randint() function when we need to create a NumPy array filled with random integer values.\n",
    "\n",
    "a1 = np.random.randint(0, 10, (2,3,5))\n",
    "print(a1)"
   ]
  },
  {
   "cell_type": "code",
   "execution_count": 14,
   "metadata": {},
   "outputs": [
    {
     "name": "stdout",
     "output_type": "stream",
     "text": [
      "[[[ 1.26480375 -0.30968727 -0.84635383 -0.46421771 -0.37041475]\n",
      "  [ 0.88844598 -1.03859011  1.59506383  0.63522809 -0.23092231]\n",
      "  [-1.96677367  1.39567062  0.68581893 -0.6448767   1.29406433]]\n",
      "\n",
      " [[ 0.40435895 -0.57366272 -0.52522218  0.36541989 -0.51910948]\n",
      "  [-1.24597396  0.00306788 -0.71830112  1.17320242 -0.75711028]\n",
      "  [ 0.64700983 -0.51438044  0.67249213 -0.56332109  0.21140048]]]\n"
     ]
    }
   ],
   "source": [
    "# Method 2\n",
    "#We use Numpy randn() function when we want to create a NumPy array filled with floating-point random numbers that \n",
    "#are both positive and negative. \n",
    "\n",
    "a2 = np.random.randn(2,3,5)\n",
    "print(a2)"
   ]
  },
  {
   "cell_type": "code",
   "execution_count": 15,
   "metadata": {},
   "outputs": [
    {
     "name": "stdout",
     "output_type": "stream",
     "text": [
      "[[[0.68370936 0.49060042 0.62379407 0.25492778 0.96035199]\n",
      "  [0.42063605 0.15123354 0.06222862 0.79610369 0.29698656]\n",
      "  [0.61027312 0.38740701 0.53541041 0.72248413 0.93395782]]\n",
      "\n",
      " [[0.11714288 0.36119799 0.9386278  0.89992006 0.63344798]\n",
      "  [0.54246021 0.43663203 0.47596062 0.60615055 0.63786784]\n",
      "  [0.50937649 0.51232999 0.96992589 0.12243715 0.64822091]]]\n"
     ]
    }
   ],
   "source": [
    "# Method 3\n",
    "#Numpy rand() function is used when we want to create a NumPy array filled with random floating-point numbers that are\n",
    "#only positive and in the range [0,1).\n",
    "\n",
    "a3 = np.random.rand(2,3,5)\n",
    "print(a3)"
   ]
  },
  {
   "cell_type": "markdown",
   "metadata": {},
   "source": [
    "#### 4. Print *a*.\n"
   ]
  },
  {
   "cell_type": "code",
   "execution_count": 54,
   "metadata": {},
   "outputs": [
    {
     "name": "stdout",
     "output_type": "stream",
     "text": [
      "[[[0.68370936 0.49060042 0.62379407 0.25492778 0.96035199]\n",
      "  [0.42063605 0.15123354 0.06222862 0.79610369 0.29698656]\n",
      "  [0.61027312 0.38740701 0.53541041 0.72248413 0.93395782]]\n",
      "\n",
      " [[0.11714288 0.36119799 0.9386278  0.89992006 0.63344798]\n",
      "  [0.54246021 0.43663203 0.47596062 0.60615055 0.63786784]\n",
      "  [0.50937649 0.51232999 0.96992589 0.12243715 0.64822091]]]\n"
     ]
    }
   ],
   "source": [
    "# your code here\n",
    "a = a3\n",
    "print(a)"
   ]
  },
  {
   "cell_type": "markdown",
   "metadata": {},
   "source": [
    "#### 5. Create a 5x2x3 3-dimensional array with all values equaling 1. Assign the array to variable *b*."
   ]
  },
  {
   "cell_type": "code",
   "execution_count": 55,
   "metadata": {},
   "outputs": [],
   "source": [
    "# your code here\n",
    "b = np.ones((5, 2, 3), dtype=np.int64)"
   ]
  },
  {
   "cell_type": "markdown",
   "metadata": {},
   "source": [
    "#### 6. Print *b*.\n"
   ]
  },
  {
   "cell_type": "code",
   "execution_count": 56,
   "metadata": {},
   "outputs": [
    {
     "name": "stdout",
     "output_type": "stream",
     "text": [
      "[[[1 1 1]\n",
      "  [1 1 1]]\n",
      "\n",
      " [[1 1 1]\n",
      "  [1 1 1]]\n",
      "\n",
      " [[1 1 1]\n",
      "  [1 1 1]]\n",
      "\n",
      " [[1 1 1]\n",
      "  [1 1 1]]\n",
      "\n",
      " [[1 1 1]\n",
      "  [1 1 1]]]\n"
     ]
    }
   ],
   "source": [
    "# your code here\n",
    "print(b)"
   ]
  },
  {
   "cell_type": "markdown",
   "metadata": {},
   "source": [
    "#### 7. Do *a* and *b* have the same size? How do you prove that in Python code?"
   ]
  },
  {
   "cell_type": "code",
   "execution_count": 57,
   "metadata": {},
   "outputs": [
    {
     "data": {
      "text/plain": [
       "True"
      ]
     },
     "execution_count": 57,
     "metadata": {},
     "output_type": "execute_result"
    }
   ],
   "source": [
    "# your code here\n",
    "a.size == b.size"
   ]
  },
  {
   "cell_type": "markdown",
   "metadata": {},
   "source": [
    "#### 8. Are you able to add *a* and *b*? Why or why not?\n"
   ]
  },
  {
   "cell_type": "code",
   "execution_count": 66,
   "metadata": {},
   "outputs": [
    {
     "ename": "ValueError",
     "evalue": "operands could not be broadcast together with shapes (2,3,5) (5,2,3) ",
     "output_type": "error",
     "traceback": [
      "\u001b[0;31m---------------------------------------------------------------------------\u001b[0m",
      "\u001b[0;31mValueError\u001b[0m                                Traceback (most recent call last)",
      "\u001b[0;32m<ipython-input-66-f0fc0d0be62a>\u001b[0m in \u001b[0;36m<module>\u001b[0;34m\u001b[0m\n\u001b[1;32m      1\u001b[0m \u001b[0;31m# your answer here\u001b[0m\u001b[0;34m\u001b[0m\u001b[0;34m\u001b[0m\u001b[0;34m\u001b[0m\u001b[0m\n\u001b[0;32m----> 2\u001b[0;31m \u001b[0mnp\u001b[0m\u001b[0;34m.\u001b[0m\u001b[0madd\u001b[0m\u001b[0;34m(\u001b[0m\u001b[0ma\u001b[0m\u001b[0;34m,\u001b[0m\u001b[0mb\u001b[0m\u001b[0;34m)\u001b[0m\u001b[0;34m\u001b[0m\u001b[0;34m\u001b[0m\u001b[0m\n\u001b[0m",
      "\u001b[0;31mValueError\u001b[0m: operands could not be broadcast together with shapes (2,3,5) (5,2,3) "
     ]
    }
   ],
   "source": [
    "# your answer here\n",
    "np.add(a,b)"
   ]
  },
  {
   "cell_type": "code",
   "execution_count": 58,
   "metadata": {},
   "outputs": [
    {
     "data": {
      "text/plain": [
       "False"
      ]
     },
     "execution_count": 58,
     "metadata": {},
     "output_type": "execute_result"
    }
   ],
   "source": [
    "#To add two arrays together, we use the np.add(arr1,arr2) method. This method can be used only if the arrays have the \n",
    "#same shape. But the shapes of the arrays \"a\"and \"b\" are different.\n",
    "np.shape(a) == np.shape(b)"
   ]
  },
  {
   "cell_type": "markdown",
   "metadata": {},
   "source": [
    "#### 9. Transpose *b* so that it has the same structure of *a* (i.e. become a 2x3x5 array). Assign the transposed array to variable *c*."
   ]
  },
  {
   "cell_type": "code",
   "execution_count": 60,
   "metadata": {},
   "outputs": [
    {
     "name": "stdout",
     "output_type": "stream",
     "text": [
      "The shape of the array \"a\" is: (2, 3, 5)\n",
      "While the shape of the array \"b\" is: (5, 2, 3)\n",
      "After reshaping the array \"b\" we get the new array \"c\" with the shape: (2, 3, 5)\n"
     ]
    }
   ],
   "source": [
    "# your code here\n",
    "print(f'The shape of the array \"a\" is: {a.shape}')\n",
    "print(f'While the shape of the array \"b\" is: {b.shape}')\n",
    "c = b.reshape(2,3,5)\n",
    "print(f'After reshaping the array \"b\" we get the new array \"c\" with the shape: {c.shape}')"
   ]
  },
  {
   "cell_type": "markdown",
   "metadata": {},
   "source": [
    "#### 10. Try to add *a* and *c*. Now it should work. Assign the sum to variable *d*. But why does it work now?"
   ]
  },
  {
   "cell_type": "code",
   "execution_count": 61,
   "metadata": {},
   "outputs": [],
   "source": [
    "# your code/answer here\n",
    "d = np.add(a,c)"
   ]
  },
  {
   "cell_type": "code",
   "execution_count": 62,
   "metadata": {},
   "outputs": [
    {
     "data": {
      "text/plain": [
       "True"
      ]
     },
     "execution_count": 62,
     "metadata": {},
     "output_type": "execute_result"
    }
   ],
   "source": [
    "#It works now because the shapes of the arrays \"a\" and \"c\" are the same\n",
    "np.shape(a) == np.shape(c)"
   ]
  },
  {
   "cell_type": "markdown",
   "metadata": {},
   "source": [
    "#### 11. Print *a* and *d*. Notice the difference and relation of the two array in terms of the values? Explain."
   ]
  },
  {
   "cell_type": "code",
   "execution_count": 63,
   "metadata": {},
   "outputs": [
    {
     "name": "stdout",
     "output_type": "stream",
     "text": [
      "The array a:\n",
      "\n",
      " [[[0.68370936 0.49060042 0.62379407 0.25492778 0.96035199]\n",
      "  [0.42063605 0.15123354 0.06222862 0.79610369 0.29698656]\n",
      "  [0.61027312 0.38740701 0.53541041 0.72248413 0.93395782]]\n",
      "\n",
      " [[0.11714288 0.36119799 0.9386278  0.89992006 0.63344798]\n",
      "  [0.54246021 0.43663203 0.47596062 0.60615055 0.63786784]\n",
      "  [0.50937649 0.51232999 0.96992589 0.12243715 0.64822091]]]\n",
      "\n",
      "The array d:\n",
      "\n",
      " [[[1.68370936 1.49060042 1.62379407 1.25492778 1.96035199]\n",
      "  [1.42063605 1.15123354 1.06222862 1.79610369 1.29698656]\n",
      "  [1.61027312 1.38740701 1.53541041 1.72248413 1.93395782]]\n",
      "\n",
      " [[1.11714288 1.36119799 1.9386278  1.89992006 1.63344798]\n",
      "  [1.54246021 1.43663203 1.47596062 1.60615055 1.63786784]\n",
      "  [1.50937649 1.51232999 1.96992589 1.12243715 1.64822091]]]\n",
      "\n"
     ]
    }
   ],
   "source": [
    "# your code/answer here\n",
    "print(f'The array a:\\n\\n {a}\\n')\n",
    "\n",
    "print(f'The array d:\\n\\n {d}\\n')\n",
    "\n",
    "#Both arrays are filled with the floating-point numbers. The elements of the array \"d\" are those from the array \"a\" \n",
    "#but incremented by 1"
   ]
  },
  {
   "cell_type": "markdown",
   "metadata": {},
   "source": [
    "#### 12. Multiply *a* and *c*. Assign the result to *e*."
   ]
  },
  {
   "cell_type": "code",
   "execution_count": 64,
   "metadata": {},
   "outputs": [
    {
     "name": "stdout",
     "output_type": "stream",
     "text": [
      "[[[0.68370936 0.49060042 0.62379407 0.25492778 0.96035199]\n",
      "  [0.42063605 0.15123354 0.06222862 0.79610369 0.29698656]\n",
      "  [0.61027312 0.38740701 0.53541041 0.72248413 0.93395782]]\n",
      "\n",
      " [[0.11714288 0.36119799 0.9386278  0.89992006 0.63344798]\n",
      "  [0.54246021 0.43663203 0.47596062 0.60615055 0.63786784]\n",
      "  [0.50937649 0.51232999 0.96992589 0.12243715 0.64822091]]]\n"
     ]
    }
   ],
   "source": [
    "# your code here\n",
    "e = np.multiply(a, c)\n",
    "print(e)"
   ]
  },
  {
   "cell_type": "markdown",
   "metadata": {},
   "source": [
    "#### 13. Does *e* equal to *a*? Why or why not?\n"
   ]
  },
  {
   "cell_type": "code",
   "execution_count": 67,
   "metadata": {},
   "outputs": [
    {
     "data": {
      "text/plain": [
       "array([[[ True,  True,  True,  True,  True],\n",
       "        [ True,  True,  True,  True,  True],\n",
       "        [ True,  True,  True,  True,  True]],\n",
       "\n",
       "       [[ True,  True,  True,  True,  True],\n",
       "        [ True,  True,  True,  True,  True],\n",
       "        [ True,  True,  True,  True,  True]]])"
      ]
     },
     "execution_count": 67,
     "metadata": {},
     "output_type": "execute_result"
    }
   ],
   "source": [
    "# your code/answer here\n",
    "e == a\n",
    "#\"e\" is equal to \"a\" as soon as the \"c\" is the array of Ones"
   ]
  },
  {
   "cell_type": "markdown",
   "metadata": {},
   "source": [
    "#### 14. Identify the max, min, and mean values in *d*. Assign those values to variables *d_max*, *d_min* and *d_mean*."
   ]
  },
  {
   "cell_type": "code",
   "execution_count": 74,
   "metadata": {},
   "outputs": [
    {
     "name": "stdout",
     "output_type": "stream",
     "text": [
      "The max value of \"d\" is: 1.969925886760931\n",
      "The min value of \"d\" is: 1.062228624859444\n",
      "The mean value of \"d\" is: 1.5447267659496946\n"
     ]
    }
   ],
   "source": [
    "# your code here\n",
    "d_max = d.max()\n",
    "print(f'The max value of \"d\" is: {d_max}')\n",
    "d_min = d.min()\n",
    "print(f'The min value of \"d\" is: {d_min}')\n",
    "d_mean = d.mean()\n",
    "print(f'The mean value of \"d\" is: {d_mean}')"
   ]
  },
  {
   "cell_type": "markdown",
   "metadata": {},
   "source": [
    "#### 15. Now we want to label the values in *d*. First create an empty array *f* with the same shape (i.e. 2x3x5) as *d* using `np.empty`.\n"
   ]
  },
  {
   "cell_type": "code",
   "execution_count": 95,
   "metadata": {},
   "outputs": [],
   "source": [
    "# your code here\n",
    "f = np.empty((2,3,5), dtype=np.float64)"
   ]
  },
  {
   "cell_type": "markdown",
   "metadata": {},
   "source": [
    "#### 16. Populate the values in *f*. \n",
    "\n",
    "For each value in *d*, if it's larger than *d_min* but smaller than *d_mean*, assign 25 to the corresponding value in *f*. If a value in *d* is larger than *d_mean* but smaller than *d_max*, assign 75 to the corresponding value in *f*. If a value equals to *d_mean*, assign 50 to the corresponding value in *f*. Assign 0 to the corresponding value(s) in *f* for *d_min* in *d*. Assign 100 to the corresponding value(s) in *f* for *d_max* in *d*. In the end, f should have only the following values: 0, 25, 50, 75, and 100.\n",
    "\n",
    "**Note**: you don't have to use Numpy in this question."
   ]
  },
  {
   "cell_type": "code",
   "execution_count": 96,
   "metadata": {},
   "outputs": [],
   "source": [
    "# your code here\n",
    "for i in range(len(d)):\n",
    "    for j in range(len(d[i])):\n",
    "        for k in range(len(d[i][j])):\n",
    "            if d[i][j][k] > d_min and d[i][j][k] < d_mean:\n",
    "                f[i][j][k] = 25\n",
    "            elif d[i][j][k] > d_mean and d[i][j][k] < d_max:\n",
    "                f[i][j][k] = 75\n",
    "            elif d[i][j][k] == d_mean:\n",
    "                f[i][j][k] = 50\n",
    "            elif d[i][j][k] == d_min:\n",
    "                f[i][j][k] = 0\n",
    "            elif d[i][j][k] == d_max:\n",
    "                f[i][j][k] = 100         "
   ]
  },
  {
   "cell_type": "markdown",
   "metadata": {},
   "source": [
    "#### 17. Print *d* and *f*. Do you have your expected *f*?\n",
    "For instance, if your *d* is:\n",
    "```python\n",
    "[[[1.85836099, 1.67064465, 1.62576044, 1.40243961, 1.88454931],\n",
    "[1.75354326, 1.69403643, 1.36729252, 1.61415071, 1.12104981],\n",
    "[1.72201435, 1.1862918 , 1.87078449, 1.7726778 , 1.88180042]],\n",
    "[[1.44747908, 1.31673383, 1.02000951, 1.52218947, 1.97066381],\n",
    "[1.79129243, 1.74983003, 1.96028037, 1.85166831, 1.65450881],\n",
    "[1.18068344, 1.9587381 , 1.00656599, 1.93402165, 1.73514584]]]\n",
    "```\n",
    "Your *f* should be:\n",
    "```python\n",
    "[[[ 75.,  75.,  75.,  25.,  75.],\n",
    "[ 75.,  75.,  25.,  25.,  25.],\n",
    "[ 75.,  25.,  75.,  75.,  75.]],\n",
    "[[ 25.,  25.,  25.,  25., 100.],\n",
    "[ 75.,  75.,  75.,  75.,  75.],\n",
    "[ 25.,  75.,   0.,  75.,  75.]]]\n",
    "```"
   ]
  },
  {
   "cell_type": "code",
   "execution_count": 97,
   "metadata": {},
   "outputs": [
    {
     "name": "stdout",
     "output_type": "stream",
     "text": [
      "The array d:\n",
      "\n",
      " [[[1.68370936 1.49060042 1.62379407 1.25492778 1.96035199]\n",
      "  [1.42063605 1.15123354 1.06222862 1.79610369 1.29698656]\n",
      "  [1.61027312 1.38740701 1.53541041 1.72248413 1.93395782]]\n",
      "\n",
      " [[1.11714288 1.36119799 1.9386278  1.89992006 1.63344798]\n",
      "  [1.54246021 1.43663203 1.47596062 1.60615055 1.63786784]\n",
      "  [1.50937649 1.51232999 1.96992589 1.12243715 1.64822091]]]\n",
      "\n",
      "The array f:\n",
      "\n",
      " [[[ 75.  25.  75.  25.  75.]\n",
      "  [ 25.  25.   0.  75.  25.]\n",
      "  [ 75.  25.  25.  75.  75.]]\n",
      "\n",
      " [[ 25.  25.  75.  75.  75.]\n",
      "  [ 25.  25.  25.  75.  75.]\n",
      "  [ 25.  25. 100.  25.  75.]]]\n",
      "\n"
     ]
    }
   ],
   "source": [
    "# your code here\n",
    "print(f'The array d:\\n\\n {d}\\n')\n",
    "\n",
    "print(f'The array f:\\n\\n {f}\\n')"
   ]
  },
  {
   "cell_type": "markdown",
   "metadata": {},
   "source": [
    "#### 18. Bonus question: instead of using numbers (i.e. 0, 25, 50, 75, and 100), use string values  (\"A\", \"B\", \"C\", \"D\", and \"E\") to label the array elements. For the example above, the expected result is:\n",
    "\n",
    "```python\n",
    "[[[ 'D',  'D',  'D',  'B',  'D'],\n",
    "[ 'D',  'D',  'B',  'B',  'B'],\n",
    "[ 'D',  'B',  'D',  'D',  'D']],\n",
    "[[ 'B',  'B',  'B',  'B',  'E'],\n",
    "[ 'D',  'D',  'D',  'D',  'D'],\n",
    "[ 'B',  'D',   'A',  'D', 'D']]]\n",
    "```\n",
    "**Note**: you don't have to use Numpy in this question."
   ]
  },
  {
   "cell_type": "code",
   "execution_count": 98,
   "metadata": {},
   "outputs": [],
   "source": [
    "# your code here\n",
    "g = np.empty((2,3,5), dtype=str)"
   ]
  },
  {
   "cell_type": "code",
   "execution_count": 99,
   "metadata": {},
   "outputs": [
    {
     "name": "stdout",
     "output_type": "stream",
     "text": [
      "[[['D' 'B' 'D' 'B' 'D']\n",
      "  ['B' 'B' 'A' 'D' 'B']\n",
      "  ['D' 'B' 'B' 'D' 'D']]\n",
      "\n",
      " [['B' 'B' 'D' 'D' 'D']\n",
      "  ['B' 'B' 'B' 'D' 'D']\n",
      "  ['B' 'B' 'E' 'B' 'D']]]\n"
     ]
    }
   ],
   "source": [
    "for i in range(len(d)):\n",
    "    for j in range(len(d[i])):\n",
    "        for k in range(len(d[i][j])):\n",
    "            if d[i][j][k] > d_min and d[i][j][k] < d_mean:\n",
    "                g[i][j][k] = 'B'\n",
    "            elif d[i][j][k] > d_mean and d[i][j][k] < d_max:\n",
    "                g[i][j][k] = 'D'\n",
    "            elif d[i][j][k] == d_mean:\n",
    "                g[i][j][k] = 'C'\n",
    "            elif d[i][j][k] == d_min:\n",
    "                g[i][j][k] = 'A'\n",
    "            elif d[i][j][k] == d_max:\n",
    "                g[i][j][k] = 'E'  \n",
    "print(g)                "
   ]
  }
 ],
 "metadata": {
  "kernelspec": {
   "display_name": "Python 3",
   "language": "python",
   "name": "python3"
  },
  "language_info": {
   "codemirror_mode": {
    "name": "ipython",
    "version": 3
   },
   "file_extension": ".py",
   "mimetype": "text/x-python",
   "name": "python",
   "nbconvert_exporter": "python",
   "pygments_lexer": "ipython3",
   "version": "3.8.5"
  }
 },
 "nbformat": 4,
 "nbformat_minor": 2
}
